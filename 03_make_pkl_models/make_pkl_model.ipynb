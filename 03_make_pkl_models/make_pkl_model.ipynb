{
 "cells": [
  {
   "cell_type": "code",
   "execution_count": 1,
   "id": "c011ff82-2de8-4fc3-b5dd-57e82ec80bdf",
   "metadata": {},
   "outputs": [],
   "source": [
    "import os\n",
    "import sys\n",
    "\n",
    "import pandas as pd\n",
    "import numpy as np\n",
    "import sklearn\n",
    "from hmmlearn import hmm\n",
    "try: # version > 0.2.7\n",
    "   from hmmlearn.hmm import CategoricalHMM as MultinomialHMM\n",
    "except: # version <= 0.2.7\n",
    "   from hmmlearn.hmm import MultinomialHMM\n",
    "import matplotlib.pyplot as plt\n",
    "from tqdm import tqdm\n",
    "import seaborn as sns\n",
    "from sklearn.model_selection import KFold\n",
    "import pickle\n",
    "\n",
    "sys.path.insert(0, '../scripts')\n",
    "from flaHMM_functions import *"
   ]
  },
  {
   "cell_type": "code",
   "execution_count": 2,
   "id": "8985f8ab-93c1-4e03-86f7-3b437b7680c0",
   "metadata": {},
   "outputs": [],
   "source": [
    "# Species to use for models\n",
    "species_build=['Dyak.GCF_016746365',\n",
    "              'Dsan.GCF_016746245',\n",
    "              'Dsim.GCF_016746395',\n",
    "              'Dmau.GCF_004382145',\n",
    "              'Dmel.dm6',\n",
    "              'Dsubp.GCF_014743375']"
   ]
  },
  {
   "cell_type": "code",
   "execution_count": 3,
   "id": "a9705f0d-eae5-4a30-883c-c48e434f96ff",
   "metadata": {},
   "outputs": [],
   "source": [
    "def train_combination_models(bin_size, threshold):\n",
    "        species_train=[i for i in species_build]\n",
    "        for threshold in [threshold]:\n",
    "            threshold_num='threshold_'+str(threshold)\n",
    "            \n",
    "            get_emission_matrices={}\n",
    "            for emission_matrix_file in os.listdir('../matrices/emissionprobs/'):\n",
    "                if bin_size in emission_matrix_file:\n",
    "                    if threshold_num in emission_matrix_file:\n",
    "                        if emission_matrix_file.split('emissionmat_')[1].split('_threshold_')[0] in get_emission_matrices.keys():\n",
    "                            continue\n",
    "                        else:\n",
    "                            if emission_matrix_file.split('emissionmat_')[1].split('_threshold_')[0] in species_train:\n",
    "                                #print(emission_matrix_file)\n",
    "                                get_emission_matrices[emission_matrix_file.split('emissionmat_')[1].split('_threshold_')[0]]=pd.read_csv('../matrices/emissionprobs/'+emission_matrix_file,sep='\\t', index_col=0).values\n",
    "                            else:\n",
    "                                continue\n",
    "            \n",
    "            get_transition_matrices={}\n",
    "            for transition_matrix_file in os.listdir('../matrices/transmats/'):\n",
    "                if bin_size in transition_matrix_file:\n",
    "                    if threshold_num in transition_matrix_file:\n",
    "                        if transition_matrix_file.split('transmat_')[1].split('_threshold_')[0] in get_transition_matrices.keys():\n",
    "                            continue\n",
    "                        else:\n",
    "                            if transition_matrix_file.split('transmat_')[1].split('_threshold_')[0] in species_train:\n",
    "                                #print(transition_matrix_file)\n",
    "                                get_transition_matrices[transition_matrix_file.split('transmat_')[1].split('_threshold_')[0]]=pd.read_csv('../matrices/transmats/'+transition_matrix_file,sep='\\t', index_col=0).values\n",
    "                            else:\n",
    "                                continue\n",
    "                                \n",
    "            get_startprob_matrices={}\n",
    "            for startprob_matrix_file in os.listdir('../matrices/startprobs/'):\n",
    "                if bin_size in startprob_matrix_file:\n",
    "                    if threshold_num in startprob_matrix_file:\n",
    "                        if startprob_matrix_file.split('startprob_')[1].split('_threshold_')[0] in get_startprob_matrices.keys():\n",
    "                            continue\n",
    "                        else:\n",
    "                            if startprob_matrix_file.split('startprob_')[1].split('_threshold_')[0] in species_train:\n",
    "                                #print(startprob_matrix_file)\n",
    "                                get_startprob_matrices[startprob_matrix_file.split('startprob_')[1].split('_threshold_')[0]]=pd.read_csv('../matrices/startprobs/'+startprob_matrix_file,sep='\\t', index_col=0).values\n",
    "                            else:\n",
    "                                continue\n",
    "            \n",
    "            # Average across species\n",
    "            emission_matrix=sum(get_emission_matrices.values())/len(get_emission_matrices.keys())\n",
    "            transition_matrix=sum(get_transition_matrices.values())/len(get_transition_matrices.keys())\n",
    "            starprob=sum(get_startprob_matrices.values())/len(get_startprob_matrices.keys())\n",
    "            starprob = [item for row in starprob for item in row]\n",
    "            \n",
    "            #Train Model\n",
    "            model=hmm.MultinomialHMM(n_components=3,n_iter=100000,random_state=13)\n",
    "            model.n_features=3\n",
    "            model.startprob_=starprob\n",
    "            model.transmat_=transition_matrix\n",
    "            model.emissionprob_=emission_matrix\n",
    "            \n",
    "            #Create folder if it doesn't exist    \n",
    "            if not os.path.isdir('models_pkl'):\n",
    "               os.mkdir('models_pkl')\n",
    "\n",
    "            with open('models_pkl/Model_bin_'+bin_size+'k_threshold_'+str(threshold)+'.pkl', \"wb\") as file: pickle.dump(model, file)"
   ]
  },
  {
   "cell_type": "markdown",
   "id": "55b12ea5-2a9b-4326-98ff-6333ac2c7113",
   "metadata": {},
   "source": [
    "## Create combination models and save them"
   ]
  },
  {
   "cell_type": "code",
   "execution_count": 4,
   "id": "d41a2ca9-edf1-45b8-968c-35a11aaa2bdb",
   "metadata": {},
   "outputs": [
    {
     "name": "stderr",
     "output_type": "stream",
     "text": [
      "100%|██████████| 3/3 [00:00<00:00,  5.71it/s]\n"
     ]
    }
   ],
   "source": [
    "for bin_size in tqdm(['10', '5', '2.5']):\n",
    "    for threshold in [0.025, 0.05, 0.075, 0.1, 0.2]:\n",
    "        train_combination_models(bin_size, threshold)"
   ]
  },
  {
   "cell_type": "markdown",
   "id": "070889e1-f8df-4471-a2b1-674a9007874b",
   "metadata": {},
   "source": [
    "## Ensure that models can be loaded"
   ]
  },
  {
   "cell_type": "code",
   "execution_count": 5,
   "id": "34a81318-d805-4626-80e4-05aa5e4a04df",
   "metadata": {},
   "outputs": [],
   "source": [
    "with open(\"models_pkl/Model_bin_5k_threshold_0.075.pkl\", \"rb\") as file: \n",
    "    model_test=pickle.load(file)"
   ]
  },
  {
   "cell_type": "code",
   "execution_count": 6,
   "id": "8d9f5f14-9090-4a83-8760-1dd28d1424b6",
   "metadata": {},
   "outputs": [
    {
     "data": {
      "text/plain": [
       "array([[0.90565362, 0.0748475 , 0.01949888],\n",
       "       [0.30424092, 0.6340643 , 0.06169479],\n",
       "       [0.58739681, 0.30854445, 0.10405874]])"
      ]
     },
     "execution_count": 6,
     "metadata": {},
     "output_type": "execute_result"
    }
   ],
   "source": [
    "model_test.emissionprob_"
   ]
  },
  {
   "cell_type": "code",
   "execution_count": null,
   "id": "fb52766d-c56e-49bb-b518-33f94ceab664",
   "metadata": {},
   "outputs": [],
   "source": []
  }
 ],
 "metadata": {
  "kernelspec": {
   "display_name": "FlaHMM",
   "language": "python",
   "name": "flahmm"
  },
  "language_info": {
   "codemirror_mode": {
    "name": "ipython",
    "version": 3
   },
   "file_extension": ".py",
   "mimetype": "text/x-python",
   "name": "python",
   "nbconvert_exporter": "python",
   "pygments_lexer": "ipython3",
   "version": "3.8.18"
  }
 },
 "nbformat": 4,
 "nbformat_minor": 5
}
