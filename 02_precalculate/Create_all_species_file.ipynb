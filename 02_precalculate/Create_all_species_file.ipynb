{
 "cells": [
  {
   "cell_type": "code",
   "execution_count": 1,
   "id": "b037a4c2-32a7-4c68-b65a-2becd569683a",
   "metadata": {},
   "outputs": [],
   "source": [
    "import os\n",
    "import sys\n",
    "\n",
    "import pandas as pd\n",
    "import numpy as np\n",
    "import sklearn\n",
    "from hmmlearn import hmm\n",
    "try: # version > 0.2.7\n",
    "   from hmmlearn.hmm import CategoricalHMM as MultinomialHMM\n",
    "except: # version <= 0.2.7\n",
    "   from hmmlearn.hmm import MultinomialHMM\n",
    "import matplotlib.pyplot as plt\n",
    "from tqdm import tqdm\n",
    "import seaborn as sns\n",
    "from sklearn.model_selection import KFold\n",
    "\n",
    "sys.path.insert(0, '../scripts')\n",
    "from flaHMM_functions import *"
   ]
  },
  {
   "cell_type": "code",
   "execution_count": 2,
   "id": "577fc2bb-d5d7-44ad-acaf-5a8d5beb04d3",
   "metadata": {},
   "outputs": [],
   "source": [
    "species_build=['Dyak.GCF_016746365',\n",
    "              'Dsan.GCF_016746245',\n",
    "              'Dsim.GCF_016746395',\n",
    "              'Dmau.GCF_004382145',\n",
    "              'Dmel.dm6',\n",
    "              'Dsubp.GCF_014743375']"
   ]
  },
  {
   "cell_type": "code",
   "execution_count": 3,
   "id": "0ce570c1-acbf-4e09-821b-1c90c068aa35",
   "metadata": {},
   "outputs": [
    {
     "name": "stderr",
     "output_type": "stream",
     "text": [
      "  0%|          | 0/3 [00:00<?, ?it/s]"
     ]
    },
    {
     "name": "stdout",
     "output_type": "stream",
     "text": [
      "Dyak.GCF_016746365\n",
      "(284, 7)\n",
      "Dsan.GCF_016746245\n",
      "(165, 7)\n",
      "Dsim.GCF_016746395\n",
      "(90, 7)\n",
      "Dmau.GCF_004382145\n",
      "(171, 7)\n",
      "Dmel.dm6\n",
      "(162, 7)\n",
      "Dsubp.GCF_014743375\n",
      "(219, 7)\n"
     ]
    },
    {
     "name": "stderr",
     "output_type": "stream",
     "text": [
      " 33%|███▎      | 1/3 [00:56<01:52, 56.41s/it]"
     ]
    },
    {
     "name": "stdout",
     "output_type": "stream",
     "text": [
      "Dyak.GCF_016746365\n",
      "(283, 7)\n",
      "Dsan.GCF_016746245\n",
      "(164, 7)\n",
      "Dsim.GCF_016746395\n",
      "(89, 7)\n",
      "Dmau.GCF_004382145\n",
      "(170, 7)\n",
      "Dmel.dm6\n",
      "(161, 7)\n",
      "Dsubp.GCF_014743375\n",
      "(218, 7)\n"
     ]
    },
    {
     "name": "stderr",
     "output_type": "stream",
     "text": [
      " 67%|██████▋   | 2/3 [01:49<00:54, 54.47s/it]"
     ]
    },
    {
     "name": "stdout",
     "output_type": "stream",
     "text": [
      "Dyak.GCF_016746365\n",
      "(566, 7)\n",
      "Dsan.GCF_016746245\n",
      "(326, 7)\n",
      "Dsim.GCF_016746395\n",
      "(176, 7)\n",
      "Dmau.GCF_004382145\n",
      "(339, 7)\n",
      "Dmel.dm6\n",
      "(322, 7)\n",
      "Dsubp.GCF_014743375\n",
      "(435, 7)\n"
     ]
    },
    {
     "name": "stderr",
     "output_type": "stream",
     "text": [
      "100%|██████████| 3/3 [04:10<00:00, 83.55s/it]\n"
     ]
    }
   ],
   "source": [
    "for bin_size in tqdm(['10','5','2.5']):\n",
    "#for bin_size in tqdm(['10']):\n",
    "    all_data_species=pd.DataFrame()\n",
    "    for species_train in species_build:\n",
    "        print(species_train)\n",
    "        species_train_build='_build_'.join(species_train.split('.'))\n",
    "        all_data=read_proces_05files(species_train,'../bins/bins_'+bin_size+'k/')\n",
    "    \n",
    "        try:\n",
    "            all_data=genome_cluster_annotation(species_train_build,all_data)\n",
    "        except:\n",
    "            all_data['cluster']=0\n",
    "        \n",
    "        all_data = all_data[['chr', 'bin_start','bin_end','cluster','coverage_plus','coverage_minus']]\n",
    "        all_data['Data']=species_train\n",
    "\n",
    "        centromere_2_bins=pd.DataFrame()\n",
    "        for chromosome in ['chr2L','chr2R']:\n",
    "            get_centromere_coordinates=centromere_coordinates[(centromere_coordinates['species']==species_train)&(centromere_coordinates['chr']==chromosome)]\n",
    "            for row in get_centromere_coordinates.iterrows():\n",
    "                centromere_2_bins=pd.concat([centromere_2_bins, all_data[(all_data['chr']==chromosome)&(all_data['bin_start']>=row[1]['bin_start'])&(all_data['bin_end']<=row[1]['bin_end'])]])\n",
    "            \n",
    "        centromere_3_bins=pd.DataFrame()\n",
    "        for chromosome in ['chr3L','chr3R']:\n",
    "            get_centromere_coordinates=centromere_coordinates[(centromere_coordinates['species']==species_train)&(centromere_coordinates['chr']==chromosome)]\n",
    "            for row in get_centromere_coordinates.iterrows():\n",
    "                centromere_3_bins=pd.concat([centromere_3_bins, all_data[(all_data['chr']==chromosome)&(all_data['bin_start']>=row[1]['bin_start'])&(all_data['bin_end']<=row[1]['bin_end'])]])\n",
    "          \n",
    "        flam_bins=all_data[all_data['cluster']==1]\n",
    "        print(flam_bins.shape)\n",
    "    \n",
    "        region=[]\n",
    "        region_binary=[]\n",
    "        for i in all_data.index.tolist():\n",
    "            if i in flam_bins.index.tolist():\n",
    "                region.append('flam')\n",
    "                region_binary.append(1)\n",
    "            elif i in centromere_2_bins.index.tolist():\n",
    "                region.append('centromere')\n",
    "                region_binary.append(2)\n",
    "            elif i in centromere_3_bins.index.tolist():\n",
    "                region.append('centromere')\n",
    "                region_binary.append(2)\n",
    "            else:\n",
    "                region.append('none')\n",
    "                region_binary.append(0)\n",
    "        \n",
    "        all_data['region']=region\n",
    "        all_data['region_binary']=region_binary\n",
    "        \n",
    "        all_data_species=pd.concat([all_data_species, all_data])\n",
    "        \n",
    "    all_data_species.to_csv('all_data_species'+bin_size+'k.txt', sep='\\t')"
   ]
  },
  {
   "cell_type": "code",
   "execution_count": null,
   "id": "b0da57e6-5aa3-4f00-bc32-a8622276db7e",
   "metadata": {},
   "outputs": [],
   "source": []
  }
 ],
 "metadata": {
  "kernelspec": {
   "display_name": "FlaHMM",
   "language": "python",
   "name": "flahmm"
  },
  "language_info": {
   "codemirror_mode": {
    "name": "ipython",
    "version": 3
   },
   "file_extension": ".py",
   "mimetype": "text/x-python",
   "name": "python",
   "nbconvert_exporter": "python",
   "pygments_lexer": "ipython3",
   "version": "3.8.18"
  }
 },
 "nbformat": 4,
 "nbformat_minor": 5
}
