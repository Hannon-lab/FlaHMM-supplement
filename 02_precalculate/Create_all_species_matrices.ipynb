{
 "cells": [
  {
   "cell_type": "code",
   "execution_count": 1,
   "id": "27bc7a9c-20e6-4e2c-bdbb-36a69887deb5",
   "metadata": {},
   "outputs": [],
   "source": [
    "import os\n",
    "import sys\n",
    "\n",
    "import pandas as pd\n",
    "import numpy as np\n",
    "import sklearn\n",
    "from hmmlearn import hmm\n",
    "try: # version > 0.2.7\n",
    "   from hmmlearn.hmm import CategoricalHMM as MultinomialHMM\n",
    "except: # version <= 0.2.7\n",
    "   from hmmlearn.hmm import MultinomialHMM\n",
    "import matplotlib.pyplot as plt\n",
    "from tqdm import tqdm\n",
    "import seaborn as sns\n",
    "from sklearn.model_selection import KFold\n",
    "\n",
    "sys.path.insert(0, '../scripts')\n",
    "from flaHMM_functions import *"
   ]
  },
  {
   "cell_type": "code",
   "execution_count": 2,
   "id": "513f9734-74e9-4de0-b35a-137a13945057",
   "metadata": {},
   "outputs": [],
   "source": [
    "species_build=['Dyak.GCF_016746365',\n",
    "              'Dsan.GCF_016746245',\n",
    "              'Dsim.GCF_016746395',\n",
    "              'Dmau.GCF_004382145',\n",
    "              'Dmel.dm6',\n",
    "              'Dsubp.GCF_014743375']"
   ]
  },
  {
   "cell_type": "code",
   "execution_count": 3,
   "id": "10fdc287-45da-4e62-85eb-1e0b4ee7e6cf",
   "metadata": {},
   "outputs": [],
   "source": [
    "# Create folder if it doesn't exist    \n",
    "if not os.path.isdir('matrices'):\n",
    "    os.mkdir('matrices')\n",
    "    \n",
    "if not os.path.isdir('matrices/startprobs'):\n",
    "    os.mkdir('matrices/startprobs')\n",
    "    \n",
    "if not os.path.isdir('matrices/transmats'):\n",
    "    os.mkdir('matrices/transmats')\n",
    "    \n",
    "if not os.path.isdir('matrices/emissionprobs'):\n",
    "    os.mkdir('matrices/emissionprobs')"
   ]
  },
  {
   "cell_type": "code",
   "execution_count": 4,
   "id": "702de2af-7859-4a26-9fc3-7c4b1056e113",
   "metadata": {},
   "outputs": [
    {
     "name": "stderr",
     "output_type": "stream",
     "text": [
      "  0%|          | 0/3 [00:00<?, ?it/s]"
     ]
    },
    {
     "name": "stdout",
     "output_type": "stream",
     "text": [
      "Read Files\n",
      "Dyak.GCF_016746365\n"
     ]
    },
    {
     "name": "stderr",
     "output_type": "stream",
     "text": [
      "/Users/bornel01/Project/Marianna/GitHub/hmm-cluster-pred/02_precalculate/../scripts/flaHMM_functions.py:204: FutureWarning: The behavior of `series[i:j]` with an integer-dtype index is deprecated. In a future version, this will be treated as *label-based* indexing, consistent with e.g. `series[i]` lookups. To retain the old behavior, use `series.iloc[i:j]`. To get the future behavior, use `series.loc[i:j]`.\n",
      "  transitions_strand_one=np.vstack([df_chr['region_binary'][:-1],df_chr['region_binary'][1:]]).T\n",
      "/Users/bornel01/Project/Marianna/GitHub/hmm-cluster-pred/02_precalculate/../scripts/flaHMM_functions.py:205: FutureWarning: The behavior of `series[i:j]` with an integer-dtype index is deprecated. In a future version, this will be treated as *label-based* indexing, consistent with e.g. `series[i]` lookups. To retain the old behavior, use `series.iloc[i:j]`. To get the future behavior, use `series.loc[i:j]`.\n",
      "  transitions_strand_two=np.vstack([df_chr['region_binary'][:-1].replace(1,0),df_chr['region_binary'][1:].replace(1,0)]).T\n"
     ]
    },
    {
     "name": "stdout",
     "output_type": "stream",
     "text": [
      "Dsan.GCF_016746245\n"
     ]
    },
    {
     "name": "stderr",
     "output_type": "stream",
     "text": [
      "/Users/bornel01/Project/Marianna/GitHub/hmm-cluster-pred/02_precalculate/../scripts/flaHMM_functions.py:204: FutureWarning: The behavior of `series[i:j]` with an integer-dtype index is deprecated. In a future version, this will be treated as *label-based* indexing, consistent with e.g. `series[i]` lookups. To retain the old behavior, use `series.iloc[i:j]`. To get the future behavior, use `series.loc[i:j]`.\n",
      "  transitions_strand_one=np.vstack([df_chr['region_binary'][:-1],df_chr['region_binary'][1:]]).T\n",
      "/Users/bornel01/Project/Marianna/GitHub/hmm-cluster-pred/02_precalculate/../scripts/flaHMM_functions.py:205: FutureWarning: The behavior of `series[i:j]` with an integer-dtype index is deprecated. In a future version, this will be treated as *label-based* indexing, consistent with e.g. `series[i]` lookups. To retain the old behavior, use `series.iloc[i:j]`. To get the future behavior, use `series.loc[i:j]`.\n",
      "  transitions_strand_two=np.vstack([df_chr['region_binary'][:-1].replace(1,0),df_chr['region_binary'][1:].replace(1,0)]).T\n"
     ]
    },
    {
     "name": "stdout",
     "output_type": "stream",
     "text": [
      "Dsim.GCF_016746395\n"
     ]
    },
    {
     "name": "stderr",
     "output_type": "stream",
     "text": [
      "/Users/bornel01/Project/Marianna/GitHub/hmm-cluster-pred/02_precalculate/../scripts/flaHMM_functions.py:204: FutureWarning: The behavior of `series[i:j]` with an integer-dtype index is deprecated. In a future version, this will be treated as *label-based* indexing, consistent with e.g. `series[i]` lookups. To retain the old behavior, use `series.iloc[i:j]`. To get the future behavior, use `series.loc[i:j]`.\n",
      "  transitions_strand_one=np.vstack([df_chr['region_binary'][:-1],df_chr['region_binary'][1:]]).T\n",
      "/Users/bornel01/Project/Marianna/GitHub/hmm-cluster-pred/02_precalculate/../scripts/flaHMM_functions.py:205: FutureWarning: The behavior of `series[i:j]` with an integer-dtype index is deprecated. In a future version, this will be treated as *label-based* indexing, consistent with e.g. `series[i]` lookups. To retain the old behavior, use `series.iloc[i:j]`. To get the future behavior, use `series.loc[i:j]`.\n",
      "  transitions_strand_two=np.vstack([df_chr['region_binary'][:-1].replace(1,0),df_chr['region_binary'][1:].replace(1,0)]).T\n"
     ]
    },
    {
     "name": "stdout",
     "output_type": "stream",
     "text": [
      "Dmau.GCF_004382145\n"
     ]
    },
    {
     "name": "stderr",
     "output_type": "stream",
     "text": [
      "/Users/bornel01/Project/Marianna/GitHub/hmm-cluster-pred/02_precalculate/../scripts/flaHMM_functions.py:204: FutureWarning: The behavior of `series[i:j]` with an integer-dtype index is deprecated. In a future version, this will be treated as *label-based* indexing, consistent with e.g. `series[i]` lookups. To retain the old behavior, use `series.iloc[i:j]`. To get the future behavior, use `series.loc[i:j]`.\n",
      "  transitions_strand_one=np.vstack([df_chr['region_binary'][:-1],df_chr['region_binary'][1:]]).T\n",
      "/Users/bornel01/Project/Marianna/GitHub/hmm-cluster-pred/02_precalculate/../scripts/flaHMM_functions.py:205: FutureWarning: The behavior of `series[i:j]` with an integer-dtype index is deprecated. In a future version, this will be treated as *label-based* indexing, consistent with e.g. `series[i]` lookups. To retain the old behavior, use `series.iloc[i:j]`. To get the future behavior, use `series.loc[i:j]`.\n",
      "  transitions_strand_two=np.vstack([df_chr['region_binary'][:-1].replace(1,0),df_chr['region_binary'][1:].replace(1,0)]).T\n"
     ]
    },
    {
     "name": "stdout",
     "output_type": "stream",
     "text": [
      "Dmel.dm6\n"
     ]
    },
    {
     "name": "stderr",
     "output_type": "stream",
     "text": [
      "/Users/bornel01/Project/Marianna/GitHub/hmm-cluster-pred/02_precalculate/../scripts/flaHMM_functions.py:204: FutureWarning: The behavior of `series[i:j]` with an integer-dtype index is deprecated. In a future version, this will be treated as *label-based* indexing, consistent with e.g. `series[i]` lookups. To retain the old behavior, use `series.iloc[i:j]`. To get the future behavior, use `series.loc[i:j]`.\n",
      "  transitions_strand_one=np.vstack([df_chr['region_binary'][:-1],df_chr['region_binary'][1:]]).T\n",
      "/Users/bornel01/Project/Marianna/GitHub/hmm-cluster-pred/02_precalculate/../scripts/flaHMM_functions.py:205: FutureWarning: The behavior of `series[i:j]` with an integer-dtype index is deprecated. In a future version, this will be treated as *label-based* indexing, consistent with e.g. `series[i]` lookups. To retain the old behavior, use `series.iloc[i:j]`. To get the future behavior, use `series.loc[i:j]`.\n",
      "  transitions_strand_two=np.vstack([df_chr['region_binary'][:-1].replace(1,0),df_chr['region_binary'][1:].replace(1,0)]).T\n"
     ]
    },
    {
     "name": "stdout",
     "output_type": "stream",
     "text": [
      "Dsubp.GCF_014743375\n"
     ]
    },
    {
     "name": "stderr",
     "output_type": "stream",
     "text": [
      "/Users/bornel01/Project/Marianna/GitHub/hmm-cluster-pred/02_precalculate/../scripts/flaHMM_functions.py:207: FutureWarning: The behavior of `series[i:j]` with an integer-dtype index is deprecated. In a future version, this will be treated as *label-based* indexing, consistent with e.g. `series[i]` lookups. To retain the old behavior, use `series.iloc[i:j]`. To get the future behavior, use `series.loc[i:j]`.\n",
      "  transitions_strand_one=np.vstack([df_chr['region_binary'][:-1].replace(1,0),df_chr['region_binary'][1:].replace(1,0)]).T\n",
      "/Users/bornel01/Project/Marianna/GitHub/hmm-cluster-pred/02_precalculate/../scripts/flaHMM_functions.py:208: FutureWarning: The behavior of `series[i:j]` with an integer-dtype index is deprecated. In a future version, this will be treated as *label-based* indexing, consistent with e.g. `series[i]` lookups. To retain the old behavior, use `series.iloc[i:j]`. To get the future behavior, use `series.loc[i:j]`.\n",
      "  transitions_strand_two=np.vstack([df_chr['region_binary'][:-1],df_chr['region_binary'][1:]]).T\n",
      " 33%|███▎      | 1/3 [05:10<10:20, 310.21s/it]"
     ]
    },
    {
     "name": "stdout",
     "output_type": "stream",
     "text": [
      "Read Files\n",
      "Dyak.GCF_016746365\n"
     ]
    },
    {
     "name": "stderr",
     "output_type": "stream",
     "text": [
      "/Users/bornel01/Project/Marianna/GitHub/hmm-cluster-pred/02_precalculate/../scripts/flaHMM_functions.py:204: FutureWarning: The behavior of `series[i:j]` with an integer-dtype index is deprecated. In a future version, this will be treated as *label-based* indexing, consistent with e.g. `series[i]` lookups. To retain the old behavior, use `series.iloc[i:j]`. To get the future behavior, use `series.loc[i:j]`.\n",
      "  transitions_strand_one=np.vstack([df_chr['region_binary'][:-1],df_chr['region_binary'][1:]]).T\n",
      "/Users/bornel01/Project/Marianna/GitHub/hmm-cluster-pred/02_precalculate/../scripts/flaHMM_functions.py:205: FutureWarning: The behavior of `series[i:j]` with an integer-dtype index is deprecated. In a future version, this will be treated as *label-based* indexing, consistent with e.g. `series[i]` lookups. To retain the old behavior, use `series.iloc[i:j]`. To get the future behavior, use `series.loc[i:j]`.\n",
      "  transitions_strand_two=np.vstack([df_chr['region_binary'][:-1].replace(1,0),df_chr['region_binary'][1:].replace(1,0)]).T\n"
     ]
    },
    {
     "name": "stdout",
     "output_type": "stream",
     "text": [
      "Dsan.GCF_016746245\n"
     ]
    },
    {
     "name": "stderr",
     "output_type": "stream",
     "text": [
      "/Users/bornel01/Project/Marianna/GitHub/hmm-cluster-pred/02_precalculate/../scripts/flaHMM_functions.py:204: FutureWarning: The behavior of `series[i:j]` with an integer-dtype index is deprecated. In a future version, this will be treated as *label-based* indexing, consistent with e.g. `series[i]` lookups. To retain the old behavior, use `series.iloc[i:j]`. To get the future behavior, use `series.loc[i:j]`.\n",
      "  transitions_strand_one=np.vstack([df_chr['region_binary'][:-1],df_chr['region_binary'][1:]]).T\n",
      "/Users/bornel01/Project/Marianna/GitHub/hmm-cluster-pred/02_precalculate/../scripts/flaHMM_functions.py:205: FutureWarning: The behavior of `series[i:j]` with an integer-dtype index is deprecated. In a future version, this will be treated as *label-based* indexing, consistent with e.g. `series[i]` lookups. To retain the old behavior, use `series.iloc[i:j]`. To get the future behavior, use `series.loc[i:j]`.\n",
      "  transitions_strand_two=np.vstack([df_chr['region_binary'][:-1].replace(1,0),df_chr['region_binary'][1:].replace(1,0)]).T\n"
     ]
    },
    {
     "name": "stdout",
     "output_type": "stream",
     "text": [
      "Dsim.GCF_016746395\n"
     ]
    },
    {
     "name": "stderr",
     "output_type": "stream",
     "text": [
      "/Users/bornel01/Project/Marianna/GitHub/hmm-cluster-pred/02_precalculate/../scripts/flaHMM_functions.py:204: FutureWarning: The behavior of `series[i:j]` with an integer-dtype index is deprecated. In a future version, this will be treated as *label-based* indexing, consistent with e.g. `series[i]` lookups. To retain the old behavior, use `series.iloc[i:j]`. To get the future behavior, use `series.loc[i:j]`.\n",
      "  transitions_strand_one=np.vstack([df_chr['region_binary'][:-1],df_chr['region_binary'][1:]]).T\n",
      "/Users/bornel01/Project/Marianna/GitHub/hmm-cluster-pred/02_precalculate/../scripts/flaHMM_functions.py:205: FutureWarning: The behavior of `series[i:j]` with an integer-dtype index is deprecated. In a future version, this will be treated as *label-based* indexing, consistent with e.g. `series[i]` lookups. To retain the old behavior, use `series.iloc[i:j]`. To get the future behavior, use `series.loc[i:j]`.\n",
      "  transitions_strand_two=np.vstack([df_chr['region_binary'][:-1].replace(1,0),df_chr['region_binary'][1:].replace(1,0)]).T\n"
     ]
    },
    {
     "name": "stdout",
     "output_type": "stream",
     "text": [
      "Dmau.GCF_004382145\n"
     ]
    },
    {
     "name": "stderr",
     "output_type": "stream",
     "text": [
      "/Users/bornel01/Project/Marianna/GitHub/hmm-cluster-pred/02_precalculate/../scripts/flaHMM_functions.py:204: FutureWarning: The behavior of `series[i:j]` with an integer-dtype index is deprecated. In a future version, this will be treated as *label-based* indexing, consistent with e.g. `series[i]` lookups. To retain the old behavior, use `series.iloc[i:j]`. To get the future behavior, use `series.loc[i:j]`.\n",
      "  transitions_strand_one=np.vstack([df_chr['region_binary'][:-1],df_chr['region_binary'][1:]]).T\n",
      "/Users/bornel01/Project/Marianna/GitHub/hmm-cluster-pred/02_precalculate/../scripts/flaHMM_functions.py:205: FutureWarning: The behavior of `series[i:j]` with an integer-dtype index is deprecated. In a future version, this will be treated as *label-based* indexing, consistent with e.g. `series[i]` lookups. To retain the old behavior, use `series.iloc[i:j]`. To get the future behavior, use `series.loc[i:j]`.\n",
      "  transitions_strand_two=np.vstack([df_chr['region_binary'][:-1].replace(1,0),df_chr['region_binary'][1:].replace(1,0)]).T\n"
     ]
    },
    {
     "name": "stdout",
     "output_type": "stream",
     "text": [
      "Dmel.dm6\n"
     ]
    },
    {
     "name": "stderr",
     "output_type": "stream",
     "text": [
      "/Users/bornel01/Project/Marianna/GitHub/hmm-cluster-pred/02_precalculate/../scripts/flaHMM_functions.py:204: FutureWarning: The behavior of `series[i:j]` with an integer-dtype index is deprecated. In a future version, this will be treated as *label-based* indexing, consistent with e.g. `series[i]` lookups. To retain the old behavior, use `series.iloc[i:j]`. To get the future behavior, use `series.loc[i:j]`.\n",
      "  transitions_strand_one=np.vstack([df_chr['region_binary'][:-1],df_chr['region_binary'][1:]]).T\n",
      "/Users/bornel01/Project/Marianna/GitHub/hmm-cluster-pred/02_precalculate/../scripts/flaHMM_functions.py:205: FutureWarning: The behavior of `series[i:j]` with an integer-dtype index is deprecated. In a future version, this will be treated as *label-based* indexing, consistent with e.g. `series[i]` lookups. To retain the old behavior, use `series.iloc[i:j]`. To get the future behavior, use `series.loc[i:j]`.\n",
      "  transitions_strand_two=np.vstack([df_chr['region_binary'][:-1].replace(1,0),df_chr['region_binary'][1:].replace(1,0)]).T\n"
     ]
    },
    {
     "name": "stdout",
     "output_type": "stream",
     "text": [
      "Dsubp.GCF_014743375\n"
     ]
    },
    {
     "name": "stderr",
     "output_type": "stream",
     "text": [
      "/Users/bornel01/Project/Marianna/GitHub/hmm-cluster-pred/02_precalculate/../scripts/flaHMM_functions.py:207: FutureWarning: The behavior of `series[i:j]` with an integer-dtype index is deprecated. In a future version, this will be treated as *label-based* indexing, consistent with e.g. `series[i]` lookups. To retain the old behavior, use `series.iloc[i:j]`. To get the future behavior, use `series.loc[i:j]`.\n",
      "  transitions_strand_one=np.vstack([df_chr['region_binary'][:-1].replace(1,0),df_chr['region_binary'][1:].replace(1,0)]).T\n",
      "/Users/bornel01/Project/Marianna/GitHub/hmm-cluster-pred/02_precalculate/../scripts/flaHMM_functions.py:208: FutureWarning: The behavior of `series[i:j]` with an integer-dtype index is deprecated. In a future version, this will be treated as *label-based* indexing, consistent with e.g. `series[i]` lookups. To retain the old behavior, use `series.iloc[i:j]`. To get the future behavior, use `series.loc[i:j]`.\n",
      "  transitions_strand_two=np.vstack([df_chr['region_binary'][:-1],df_chr['region_binary'][1:]]).T\n",
      " 67%|██████▋   | 2/3 [10:18<05:09, 309.27s/it]"
     ]
    },
    {
     "name": "stdout",
     "output_type": "stream",
     "text": [
      "Read Files\n",
      "Dyak.GCF_016746365\n"
     ]
    },
    {
     "name": "stderr",
     "output_type": "stream",
     "text": [
      "/Users/bornel01/Project/Marianna/GitHub/hmm-cluster-pred/02_precalculate/../scripts/flaHMM_functions.py:204: FutureWarning: The behavior of `series[i:j]` with an integer-dtype index is deprecated. In a future version, this will be treated as *label-based* indexing, consistent with e.g. `series[i]` lookups. To retain the old behavior, use `series.iloc[i:j]`. To get the future behavior, use `series.loc[i:j]`.\n",
      "  transitions_strand_one=np.vstack([df_chr['region_binary'][:-1],df_chr['region_binary'][1:]]).T\n",
      "/Users/bornel01/Project/Marianna/GitHub/hmm-cluster-pred/02_precalculate/../scripts/flaHMM_functions.py:205: FutureWarning: The behavior of `series[i:j]` with an integer-dtype index is deprecated. In a future version, this will be treated as *label-based* indexing, consistent with e.g. `series[i]` lookups. To retain the old behavior, use `series.iloc[i:j]`. To get the future behavior, use `series.loc[i:j]`.\n",
      "  transitions_strand_two=np.vstack([df_chr['region_binary'][:-1].replace(1,0),df_chr['region_binary'][1:].replace(1,0)]).T\n"
     ]
    },
    {
     "name": "stdout",
     "output_type": "stream",
     "text": [
      "Dsan.GCF_016746245\n"
     ]
    },
    {
     "name": "stderr",
     "output_type": "stream",
     "text": [
      "/Users/bornel01/Project/Marianna/GitHub/hmm-cluster-pred/02_precalculate/../scripts/flaHMM_functions.py:204: FutureWarning: The behavior of `series[i:j]` with an integer-dtype index is deprecated. In a future version, this will be treated as *label-based* indexing, consistent with e.g. `series[i]` lookups. To retain the old behavior, use `series.iloc[i:j]`. To get the future behavior, use `series.loc[i:j]`.\n",
      "  transitions_strand_one=np.vstack([df_chr['region_binary'][:-1],df_chr['region_binary'][1:]]).T\n",
      "/Users/bornel01/Project/Marianna/GitHub/hmm-cluster-pred/02_precalculate/../scripts/flaHMM_functions.py:205: FutureWarning: The behavior of `series[i:j]` with an integer-dtype index is deprecated. In a future version, this will be treated as *label-based* indexing, consistent with e.g. `series[i]` lookups. To retain the old behavior, use `series.iloc[i:j]`. To get the future behavior, use `series.loc[i:j]`.\n",
      "  transitions_strand_two=np.vstack([df_chr['region_binary'][:-1].replace(1,0),df_chr['region_binary'][1:].replace(1,0)]).T\n"
     ]
    },
    {
     "name": "stdout",
     "output_type": "stream",
     "text": [
      "Dsim.GCF_016746395\n"
     ]
    },
    {
     "name": "stderr",
     "output_type": "stream",
     "text": [
      "/Users/bornel01/Project/Marianna/GitHub/hmm-cluster-pred/02_precalculate/../scripts/flaHMM_functions.py:204: FutureWarning: The behavior of `series[i:j]` with an integer-dtype index is deprecated. In a future version, this will be treated as *label-based* indexing, consistent with e.g. `series[i]` lookups. To retain the old behavior, use `series.iloc[i:j]`. To get the future behavior, use `series.loc[i:j]`.\n",
      "  transitions_strand_one=np.vstack([df_chr['region_binary'][:-1],df_chr['region_binary'][1:]]).T\n",
      "/Users/bornel01/Project/Marianna/GitHub/hmm-cluster-pred/02_precalculate/../scripts/flaHMM_functions.py:205: FutureWarning: The behavior of `series[i:j]` with an integer-dtype index is deprecated. In a future version, this will be treated as *label-based* indexing, consistent with e.g. `series[i]` lookups. To retain the old behavior, use `series.iloc[i:j]`. To get the future behavior, use `series.loc[i:j]`.\n",
      "  transitions_strand_two=np.vstack([df_chr['region_binary'][:-1].replace(1,0),df_chr['region_binary'][1:].replace(1,0)]).T\n"
     ]
    },
    {
     "name": "stdout",
     "output_type": "stream",
     "text": [
      "Dmau.GCF_004382145\n"
     ]
    },
    {
     "name": "stderr",
     "output_type": "stream",
     "text": [
      "/Users/bornel01/Project/Marianna/GitHub/hmm-cluster-pred/02_precalculate/../scripts/flaHMM_functions.py:204: FutureWarning: The behavior of `series[i:j]` with an integer-dtype index is deprecated. In a future version, this will be treated as *label-based* indexing, consistent with e.g. `series[i]` lookups. To retain the old behavior, use `series.iloc[i:j]`. To get the future behavior, use `series.loc[i:j]`.\n",
      "  transitions_strand_one=np.vstack([df_chr['region_binary'][:-1],df_chr['region_binary'][1:]]).T\n",
      "/Users/bornel01/Project/Marianna/GitHub/hmm-cluster-pred/02_precalculate/../scripts/flaHMM_functions.py:205: FutureWarning: The behavior of `series[i:j]` with an integer-dtype index is deprecated. In a future version, this will be treated as *label-based* indexing, consistent with e.g. `series[i]` lookups. To retain the old behavior, use `series.iloc[i:j]`. To get the future behavior, use `series.loc[i:j]`.\n",
      "  transitions_strand_two=np.vstack([df_chr['region_binary'][:-1].replace(1,0),df_chr['region_binary'][1:].replace(1,0)]).T\n"
     ]
    },
    {
     "name": "stdout",
     "output_type": "stream",
     "text": [
      "Dmel.dm6\n"
     ]
    },
    {
     "name": "stderr",
     "output_type": "stream",
     "text": [
      "/Users/bornel01/Project/Marianna/GitHub/hmm-cluster-pred/02_precalculate/../scripts/flaHMM_functions.py:204: FutureWarning: The behavior of `series[i:j]` with an integer-dtype index is deprecated. In a future version, this will be treated as *label-based* indexing, consistent with e.g. `series[i]` lookups. To retain the old behavior, use `series.iloc[i:j]`. To get the future behavior, use `series.loc[i:j]`.\n",
      "  transitions_strand_one=np.vstack([df_chr['region_binary'][:-1],df_chr['region_binary'][1:]]).T\n",
      "/Users/bornel01/Project/Marianna/GitHub/hmm-cluster-pred/02_precalculate/../scripts/flaHMM_functions.py:205: FutureWarning: The behavior of `series[i:j]` with an integer-dtype index is deprecated. In a future version, this will be treated as *label-based* indexing, consistent with e.g. `series[i]` lookups. To retain the old behavior, use `series.iloc[i:j]`. To get the future behavior, use `series.loc[i:j]`.\n",
      "  transitions_strand_two=np.vstack([df_chr['region_binary'][:-1].replace(1,0),df_chr['region_binary'][1:].replace(1,0)]).T\n"
     ]
    },
    {
     "name": "stdout",
     "output_type": "stream",
     "text": [
      "Dsubp.GCF_014743375\n"
     ]
    },
    {
     "name": "stderr",
     "output_type": "stream",
     "text": [
      "/Users/bornel01/Project/Marianna/GitHub/hmm-cluster-pred/02_precalculate/../scripts/flaHMM_functions.py:207: FutureWarning: The behavior of `series[i:j]` with an integer-dtype index is deprecated. In a future version, this will be treated as *label-based* indexing, consistent with e.g. `series[i]` lookups. To retain the old behavior, use `series.iloc[i:j]`. To get the future behavior, use `series.loc[i:j]`.\n",
      "  transitions_strand_one=np.vstack([df_chr['region_binary'][:-1].replace(1,0),df_chr['region_binary'][1:].replace(1,0)]).T\n",
      "/Users/bornel01/Project/Marianna/GitHub/hmm-cluster-pred/02_precalculate/../scripts/flaHMM_functions.py:208: FutureWarning: The behavior of `series[i:j]` with an integer-dtype index is deprecated. In a future version, this will be treated as *label-based* indexing, consistent with e.g. `series[i]` lookups. To retain the old behavior, use `series.iloc[i:j]`. To get the future behavior, use `series.loc[i:j]`.\n",
      "  transitions_strand_two=np.vstack([df_chr['region_binary'][:-1],df_chr['region_binary'][1:]]).T\n",
      "100%|██████████| 3/3 [20:28<00:00, 409.59s/it]\n"
     ]
    }
   ],
   "source": [
    "for bin_size in tqdm(['10','5','2.5']):\n",
    "#for bin_size in tqdm(['5']):\n",
    "    print('Read Files')\n",
    "    all_data_species=pd.read_csv('all_data_species'+bin_size+'k.txt', sep='\\t')\n",
    "    for species_train in species_build:\n",
    "        print(species_train)\n",
    "        all_data=all_data_species[all_data_species['Data']==species_train]\n",
    "        strand=build2coords[species_train.replace('.','_build_')][1]\n",
    "        starprob, transmat=calculate_transmat(all_data, 3, strand, pseudo=True)\n",
    "        for threshold in [0.025,0.05,0.075,0.1,0.2,0.3,0.4,0.5,0.6,0.7,0.8,0.9]:\n",
    "        #for threshold in [0.05]:\n",
    "            emission_new=calculate_3emissions(all_data, threshold)\n",
    "            emissionmat=calculate_emissionprob_em3_st3(all_data, emission_new, strand, pseudo=True)\n",
    "            pd.DataFrame(starprob).to_csv('matrices/startprobs/startprob_'+species_train+'_threshold_'+str(threshold)+'_bin_'+str(bin_size)+'_st_'+str(3)+'_em_'+str(3)+'.txt', sep='\\t')\n",
    "            pd.DataFrame(transmat).to_csv('matrices/transmats/transmat_'+species_train+'_threshold_'+str(threshold)+'_bin_'+str(bin_size)+'_st_'+str(3)+'_em_'+str(3)+'.txt', sep='\\t')\n",
    "            pd.DataFrame(emissionmat).to_csv('matrices/emissionprobs/emissionmat_'+species_train+'_threshold_'+str(threshold)+'_bin_'+str(bin_size)+'_st_'+str(3)+'_em_'+str(3)+'.txt', sep='\\t')"
   ]
  },
  {
   "cell_type": "code",
   "execution_count": null,
   "id": "f3886e52-46f4-468f-9a1c-5a09e1269827",
   "metadata": {},
   "outputs": [],
   "source": []
  }
 ],
 "metadata": {
  "kernelspec": {
   "display_name": "FlaHMM",
   "language": "python",
   "name": "flahmm"
  },
  "language_info": {
   "codemirror_mode": {
    "name": "ipython",
    "version": 3
   },
   "file_extension": ".py",
   "mimetype": "text/x-python",
   "name": "python",
   "nbconvert_exporter": "python",
   "pygments_lexer": "ipython3",
   "version": "3.8.18"
  }
 },
 "nbformat": 4,
 "nbformat_minor": 5
}
