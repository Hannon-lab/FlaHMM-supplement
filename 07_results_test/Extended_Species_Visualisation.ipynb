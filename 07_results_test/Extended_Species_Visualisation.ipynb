{
 "cells": [
  {
   "cell_type": "code",
   "execution_count": 1,
   "id": "74dee983-c73e-465f-b0d8-30d64fa2d14a",
   "metadata": {},
   "outputs": [],
   "source": [
    "import sys\n",
    "\n",
    "import pandas as pd\n",
    "import numpy as np\n",
    "\n",
    "sys.path.insert(0, '../scripts')\n",
    "from flaHMM_functions import *"
   ]
  },
  {
   "cell_type": "code",
   "execution_count": 2,
   "id": "0579df40-fbbe-412c-b651-4f99a718a338",
   "metadata": {},
   "outputs": [],
   "source": [
    "NX_all=pd.read_csv('../data/NX_stats.csv', index_col=0)"
   ]
  },
  {
   "cell_type": "code",
   "execution_count": 3,
   "id": "994c853b-efec-4d22-91d5-cb3b68236d21",
   "metadata": {},
   "outputs": [],
   "source": [
    "test = ['Dbia.GCF_018148935','Dbia.d101g','Dbia.d15genomes',\n",
    "                       'Dere.GCF_003286155','Dere.d101g','Dere.droEre1','Dere.d15genomes',\n",
    "                       'Dsuz.GCF_013340165',\n",
    "                       'Dtei.GCF_016746235','Dtei.d101g_2733','Dtei.d101g_CT02']"
   ]
  },
  {
   "cell_type": "code",
   "execution_count": 4,
   "id": "44d8ce92-1b12-483e-a64d-0f8e581eec42",
   "metadata": {},
   "outputs": [],
   "source": [
    "test2 = ['Dfic.GCF_018152265','Dfic.d101g','Dfic.GCF_000220665',\n",
    "                       'Dosh.d101g',\n",
    "                       'Dath.GCA_008121215',\n",
    "                       'Dazt.GCA_005876895',\n",
    "                       'Dmir.GCF_003369915',\n",
    "                       'Dper.GCF_003286085','Dper.d101g','Dper.d15genomes',\n",
    "                       'Dpse.d15genomes','Dpse.GCF_009870125',\n",
    "                       'Dinn.GCF_004354385',\n",
    "                       'Damb.d101g',\n",
    "                       'Dbif.GCA_009664405',\n",
    "                       'Dobs.d101g','Dobs.GCF_018151105',\n",
    "                       'Dtris.d101g']"
   ]
  },
  {
   "cell_type": "markdown",
   "id": "f450c6dc-7617-429a-9082-d909cfd633a1",
   "metadata": {},
   "source": [
    "## Define helper function"
   ]
  },
  {
   "cell_type": "code",
   "execution_count": 5,
   "id": "6198655b-b3ec-4065-8762-ec99dee25cbb",
   "metadata": {},
   "outputs": [],
   "source": [
    "def get_test_results(X_test,species_test,NX_value,threshold):\n",
    "    X_test = X_test[X_test['species_test']==species_test]\n",
    "    \n",
    "    #======================Use genome assembly statistics to filter for small chrs  N50===============================\n",
    "    threshold_chr=int(NX_all[(NX_all['NG (X)']==NX_value)&(NX_all['Species']==species_test)]['scaffold length (bp)'].values[0])\n",
    "    chr_size=X_test.groupby('chr').max(numeric_only=True)[['bin_end']]\n",
    "    \n",
    "    keep_chrs=chr_size[chr_size['bin_end']>=threshold_chr]\n",
    "    X_test_filtered_NX=X_test[X_test['chr'].isin(keep_chrs.index.tolist())]\n",
    "\n",
    "    return(np.array(X_test[\"region_binary\"]),np.array(X_test['pred_'+str(threshold)]),np.array(X_test_filtered_NX[\"region_binary\"]),np.array(X_test_filtered_NX['pred_'+str(threshold)]))"
   ]
  },
  {
   "cell_type": "markdown",
   "id": "49bce8fb-c1f5-4635-acad-3ca7fee0419b",
   "metadata": {},
   "source": [
    "## Retrieve predictions for all flam-syntenic regions"
   ]
  },
  {
   "cell_type": "code",
   "execution_count": 6,
   "id": "e950cfcb-e334-4e52-a657-88c0e79e3911",
   "metadata": {},
   "outputs": [],
   "source": [
    "threshold = 0.075\n",
    "bin_size = 5\n",
    "X_test_all = pd.read_csv('results_combinations/ext/X_test_all_extendedList_Bin_'+str(bin_size)+'k_threshold_'+str(threshold)+'.txt', sep='\\t')"
   ]
  },
  {
   "cell_type": "code",
   "execution_count": 7,
   "id": "e0cd4a64-e26c-480d-b580-2afbd2f2cafe",
   "metadata": {},
   "outputs": [
    {
     "name": "stdout",
     "output_type": "stream",
     "text": [
      "Dbia.GCF_018148935\t45 780 1 66208\t0.9783\t0.0116\n",
      "Dbia.d101g\t45 854 1 66134\t0.9783\t0.0127\n",
      "Dbia.d15genomes\t38 612 2 65280\t0.9500\t0.0093\n",
      "Dere.GCF_003286155\t42 355 14 52595\t0.7500\t0.0067\n",
      "Dere.d101g\t35 8 3 49164\t0.9211\t0.0002\n",
      "Dere.droEre1\t35 46 17 55096\t0.6731\t0.0008\n",
      "Dere.d15genomes\t42 25 14 47453\t0.7500\t0.0005\n",
      "Dsuz.GCF_013340165\t137 4331 0 92172\t1.0000\t0.0449\n",
      "Dtei.GCF_016746235\t155 0 0 53951\t1.0000\t0.0000\n",
      "Dtei.d101g_2733\t36 1040 1 53901\t0.9730\t0.0189\n",
      "Dtei.d101g_CT02\t42 403 2 51725\t0.9545\t0.0077\n"
     ]
    }
   ],
   "source": [
    "# Run for all species in flam-syntenic test set\n",
    "\n",
    "NX_threshold = 90\n",
    "\n",
    "for species in test:\n",
    "    X_true, X_pred, X_true_NX, X_pred_NX = get_test_results(X_test_all,species,NX_threshold,threshold)\n",
    "    \n",
    "    TP = np.array((X_true==1)&(X_pred==1)).sum()\n",
    "    FP = np.array((X_true!=1)&(X_pred==1)).sum()\n",
    "    FN = np.array((X_true==1)&(X_pred!=1)).sum()\n",
    "    TN = np.array((X_true!=1)&(X_pred!=1)).sum()\n",
    "    TPR = TP/(TP+FN)\n",
    "    FPR = FP/(FP+TN)\n",
    "\n",
    "    #print(\"%s\\tTP=%d FP=%d FN=%d TN=%d\\tTPR=%.4f\\tFPR=%.4f\" % (species,TP,FP,FN,TN,TPR,FPR))\n",
    "    #print(\"%s\\t%d %d %d %d\\t%.4f\\t%.4f\" % (species,TP,FP,FN,TN,TPR,FPR))\n",
    "    \n",
    "    TP_NX = np.array((X_true_NX==1)&(X_pred_NX==1)).sum()\n",
    "    FP_NX = np.array((X_true_NX!=1)&(X_pred_NX==1)).sum()\n",
    "    FN_NX = np.array((X_true_NX==1)&(X_pred_NX!=1)).sum()\n",
    "    TN_NX = np.array((X_true_NX!=1)&(X_pred_NX!=1)).sum()\n",
    "    TPR_NX = TP_NX/(TP_NX+FN_NX)\n",
    "    FPR_NX = FP_NX/(FP_NX+TN_NX)\n",
    "\n",
    "    #print(\"%s\\tTP=%d FP=%d FN=%d TN=%d\\tTPR=%.4f\\tFPR=%.4f [NX threshold: %d]\" % (species,TP_NX,FP_NX,FN_NX,TN_NX,TPR_NX,FPR_NX,NX_threshold))\n",
    "    print(\"%s\\t%d %d %d %d\\t%.4f\\t%.4f\" % (species,TP_NX,FP_NX,FN_NX,TN_NX,TPR_NX,FPR_NX))"
   ]
  },
  {
   "cell_type": "markdown",
   "id": "1cae96c5-b304-4fd2-b1da-74fcac47e4aa",
   "metadata": {},
   "source": [
    "## Retrieve predictions for all flam-like regions"
   ]
  },
  {
   "cell_type": "code",
   "execution_count": 8,
   "id": "387674a4-0c82-4e8d-845b-fad8f45b77cf",
   "metadata": {},
   "outputs": [
    {
     "name": "stdout",
     "output_type": "stream",
     "text": [
      "Dfic.GCF_018152265\t101 509 11 59861\t0.9018\t0.0084\n",
      "Dfic.d101g\t101 509 15 59857\t0.8707\t0.0084\n",
      "Dfic.GCF_000220665\t0 101 16 55487\t0.0000\t0.0018\n",
      "Dosh.d101g\t108 261 0 64921\t1.0000\t0.0040\n",
      "Dath.GCA_008121215\t157 142 1 70570\t0.9937\t0.0020\n",
      "Dazt.GCA_005876895\t73 2840 0 76097\t1.0000\t0.0360\n",
      "Dmir.GCF_003369915\t87 7477 4 97138\t0.9560\t0.0715\n",
      "Dper.GCF_003286085\t50 3053 0 67457\t1.0000\t0.0433\n",
      "Dper.d101g\t25 510 0 54597\t1.0000\t0.0093\n",
      "Dper.d15genomes\t7 1194 0 57987\t1.0000\t0.0202\n",
      "Dpse.d15genomes\t48 1339 1 56016\t0.9796\t0.0233\n",
      "Dpse.GCF_009870125\t57 2644 7 59216\t0.8906\t0.0427\n",
      "Dinn.GCF_004354385\t49 110 0 62321\t1.0000\t0.0018\n",
      "Damb.d101g\t0 99 0 58405\tnan\t0.0017\n",
      "Dbif.GCA_009664405\t19 263 6 72962\t0.7600\t0.0036\n"
     ]
    },
    {
     "name": "stderr",
     "output_type": "stream",
     "text": [
      "/tmp/ipykernel_33495/945932245.py:22: RuntimeWarning: invalid value encountered in long_scalars\n",
      "  TPR_NX = TP_NX/(TP_NX+FN_NX)\n"
     ]
    },
    {
     "name": "stdout",
     "output_type": "stream",
     "text": [
      "Dobs.d101g\t12 647 2 64249\t0.8571\t0.0100\n",
      "Dobs.GCF_018151105\t12 840 0 64058\t1.0000\t0.0129\n",
      "Dtris.d101g\t12 28 1 57145\t0.9231\t0.0005\n"
     ]
    }
   ],
   "source": [
    "# Run for all species in external test set\n",
    "\n",
    "NX_threshold = 90\n",
    "\n",
    "for species in test2:\n",
    "    X_true, X_pred, X_true_NX, X_pred_NX = get_test_results(X_test_all,species,NX_threshold,threshold)\n",
    "    \n",
    "    TP = np.array((X_true==1)&(X_pred==1)).sum()\n",
    "    FP = np.array((X_true!=1)&(X_pred==1)).sum()\n",
    "    FN = np.array((X_true==1)&(X_pred!=1)).sum()\n",
    "    TN = np.array((X_true!=1)&(X_pred!=1)).sum()\n",
    "    TPR = TP/(TP+FN)\n",
    "    FPR = FP/(FP+TN)\n",
    "\n",
    "    #print(\"%s\\tTP=%d FP=%d FN=%d TN=%d\\tTPR=%.4f\\tFPR=%.4f\" % (species,TP,FP,FN,TN,TPR,FPR))\n",
    "    #print(\"%s\\t%d %d %d %d\\t%.4f\\t%.4f\" % (species,TP,FP,FN,TN,TPR,FPR))\n",
    "    \n",
    "    TP_NX = np.array((X_true_NX==1)&(X_pred_NX==1)).sum()\n",
    "    FP_NX = np.array((X_true_NX!=1)&(X_pred_NX==1)).sum()\n",
    "    FN_NX = np.array((X_true_NX==1)&(X_pred_NX!=1)).sum()\n",
    "    TN_NX = np.array((X_true_NX!=1)&(X_pred_NX!=1)).sum()\n",
    "    TPR_NX = TP_NX/(TP_NX+FN_NX)\n",
    "    FPR_NX = FP_NX/(FP_NX+TN_NX)\n",
    "\n",
    "    #print(\"%s\\tTP=%d FP=%d FN=%d TN=%d\\tTPR=%.4f\\tFPR=%.4f [NX threshold: %d]\" % (species,TP_NX,FP_NX,FN_NX,TN_NX,TPR_NX,FPR_NX,NX_threshold))\n",
    "    print(\"%s\\t%d %d %d %d\\t%.4f\\t%.4f\" % (species,TP_NX,FP_NX,FN_NX,TN_NX,TPR_NX,FPR_NX))"
   ]
  },
  {
   "cell_type": "code",
   "execution_count": null,
   "id": "42925a09-0494-443a-9824-3badea25f78c",
   "metadata": {},
   "outputs": [],
   "source": []
  },
  {
   "cell_type": "code",
   "execution_count": null,
   "id": "8cb2ece1-157d-460e-bce7-be1161911e59",
   "metadata": {},
   "outputs": [],
   "source": []
  }
 ],
 "metadata": {
  "kernelspec": {
   "display_name": "FlaHMM",
   "language": "python",
   "name": "flahmm"
  },
  "language_info": {
   "codemirror_mode": {
    "name": "ipython",
    "version": 3
   },
   "file_extension": ".py",
   "mimetype": "text/x-python",
   "name": "python",
   "nbconvert_exporter": "python",
   "pygments_lexer": "ipython3",
   "version": "3.8.18"
  }
 },
 "nbformat": 4,
 "nbformat_minor": 5
}
